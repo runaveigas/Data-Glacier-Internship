{
 "cells": [
  {
   "cell_type": "code",
   "execution_count": null,
   "metadata": {},
   "outputs": [],
   "source": [
    "import time\n",
    "import dask.dataframe as dd\n",
    "import os\n",
    "import ray\n",
    "import modin.pandas as ray_pd"
   ]
  },
  {
   "cell_type": "code",
   "execution_count": 4,
   "metadata": {},
   "outputs": [
    {
     "name": "stderr",
     "output_type": "stream",
     "text": [
      "C:\\Users\\RUNA\\anaconda3\\lib\\site-packages\\ray\\autoscaler\\_private\\cli_logger.py:57: FutureWarning: Not all Ray CLI dependencies were found. In Ray 1.4+, the Ray CLI, autoscaler, and dashboard will only be usable via `pip install 'ray[default]'`. Please update your install command.\n",
      "  warnings.warn(\n",
      "UserWarning: Ray execution environment not yet initialized. Initializing...\n",
      "To remove this warning, run the following python code before doing dataframe operations:\n",
      "\n",
      "    import ray\n",
      "    ray.init()\n",
      "\n",
      "\u001b[2m\u001b[36m(pid=None)\u001b[0m C:\\Users\\RUNA\\anaconda3\\lib\\site-packages\\ray\\autoscaler\\_private\\cli_logger.py:57: FutureWarning: Not all Ray CLI dependencies were found. In Ray 1.4+, the Ray CLI, autoscaler, and dashboard will only be usable via `pip install 'ray[default]'`. Please update your install command.\n",
      "\u001b[2m\u001b[36m(pid=None)\u001b[0m   warnings.warn(\n",
      "\u001b[2m\u001b[36m(pid=None)\u001b[0m C:\\Users\\RUNA\\anaconda3\\lib\\site-packages\\ray\\autoscaler\\_private\\cli_logger.py:57: FutureWarning: Not all Ray CLI dependencies were found. In Ray 1.4+, the Ray CLI, autoscaler, and dashboard will only be usable via `pip install 'ray[default]'`. Please update your install command.\n",
      "\u001b[2m\u001b[36m(pid=None)\u001b[0m   warnings.warn(\n",
      "2021-07-18 18:46:56,501\tWARNING worker.py:1123 -- The autoscaler failed with the following error:\n",
      "Traceback (most recent call last):\n",
      "  File \"C:\\Users\\RUNA\\anaconda3\\lib\\site-packages\\ray\\autoscaler/_private\\monitor.py\", line 317, in run\n",
      "    self._run()\n",
      "  File \"C:\\Users\\RUNA\\anaconda3\\lib\\site-packages\\ray\\autoscaler/_private\\monitor.py\", line 207, in _run\n",
      "    self.update_load_metrics()\n",
      "  File \"C:\\Users\\RUNA\\anaconda3\\lib\\site-packages\\ray\\autoscaler/_private\\monitor.py\", line 169, in update_load_metrics\n",
      "    response = self.gcs_node_resources_stub.GetAllResourceUsage(\n",
      "  File \"C:\\Users\\RUNA\\anaconda3\\lib\\site-packages\\grpc\\_channel.py\", line 946, in __call__\n",
      "    return _end_unary_response_blocking(state, call, False, None)\n",
      "  File \"C:\\Users\\RUNA\\anaconda3\\lib\\site-packages\\grpc\\_channel.py\", line 849, in _end_unary_response_blocking\n",
      "    raise _InactiveRpcError(state)\n",
      "grpc._channel._InactiveRpcError: <_InactiveRpcError of RPC that terminated with:\n",
      "\tstatus = StatusCode.DEADLINE_EXCEEDED\n",
      "\tdetails = \"Deadline Exceeded\"\n",
      "\tdebug_error_string = \"{\"created\":\"@1626614148.942000000\",\"description\":\"Deadline Exceeded\",\"file\":\"src/core/ext/filters/deadline/deadline_filter.cc\",\"file_line\":81,\"grpc_status\":4}\"\n",
      ">\n",
      "\n"
     ]
    },
    {
     "name": "stdout",
     "output_type": "stream",
     "text": [
      "Wall time: 6min 59s\n"
     ]
    },
    {
     "name": "stderr",
     "output_type": "stream",
     "text": [
      "\u001b[2m\u001b[36m(pid=None)\u001b[0m C:\\Users\\RUNA\\anaconda3\\lib\\site-packages\\ray\\autoscaler\\_private\\cli_logger.py:57: FutureWarning: Not all Ray CLI dependencies were found. In Ray 1.4+, the Ray CLI, autoscaler, and dashboard will only be usable via `pip install 'ray[default]'`. Please update your install command.\r\n",
      "\u001b[2m\u001b[36m(pid=None)\u001b[0m   warnings.warn(\r\n"
     ]
    }
   ],
   "source": [
    "os.environ[\"MODIN_ENGINE\"] = \"ray\"  # Modin will use Ray\n",
    "%time  mray_df = ray_pd.read_csv(\"acceptedLoans.csv\")"
   ]
  },
  {
   "cell_type": "code",
   "execution_count": 16,
   "metadata": {},
   "outputs": [
    {
     "name": "stderr",
     "output_type": "stream",
     "text": [
      "\u001b[2m\u001b[36m(pid=None)\u001b[0m C:\\Users\\RUNA\\anaconda3\\lib\\site-packages\\ray\\autoscaler\\_private\\cli_logger.py:57: FutureWarning: Not all Ray CLI dependencies were found. In Ray 1.4+, the Ray CLI, autoscaler, and dashboard will only be usable via `pip install 'ray[default]'`. Please update your install command.\r\n",
      "\u001b[2m\u001b[36m(pid=None)\u001b[0m   warnings.warn(\r\n"
     ]
    },
    {
     "name": "stdout",
     "output_type": "stream",
     "text": [
      "Time taken to read file using dask is 0.04265594482421875\n"
     ]
    }
   ],
   "source": [
    "start = time.time()\n",
    "df = dd.read_csv('acceptedLoans.csv', dtype = 'str')\n",
    "end = time.time()\n",
    "\n",
    "print(\"Time taken to read file using dask is {}\".format(end - start))"
   ]
  },
  {
   "cell_type": "code",
   "execution_count": 17,
   "metadata": {},
   "outputs": [
    {
     "data": {
      "application/javascript": [
       "\n",
       "        if (window._pyforest_update_imports_cell) { window._pyforest_update_imports_cell('import pandas as pd'); }\n",
       "    "
      ],
      "text/plain": [
       "<IPython.core.display.Javascript object>"
      ]
     },
     "metadata": {},
     "output_type": "display_data"
    },
    {
     "name": "stderr",
     "output_type": "stream",
     "text": [
      "\u001b[2m\u001b[36m(pid=None)\u001b[0m C:\\Users\\RUNA\\anaconda3\\lib\\site-packages\\ray\\autoscaler\\_private\\cli_logger.py:57: FutureWarning: Not all Ray CLI dependencies were found. In Ray 1.4+, the Ray CLI, autoscaler, and dashboard will only be usable via `pip install 'ray[default]'`. Please update your install command.\n",
      "\u001b[2m\u001b[36m(pid=None)\u001b[0m   warnings.warn(\n",
      "\u001b[2m\u001b[36m(pid=None)\u001b[0m C:\\Users\\RUNA\\anaconda3\\lib\\site-packages\\ray\\autoscaler\\_private\\cli_logger.py:57: FutureWarning: Not all Ray CLI dependencies were found. In Ray 1.4+, the Ray CLI, autoscaler, and dashboard will only be usable via `pip install 'ray[default]'`. Please update your install command.\n",
      "\u001b[2m\u001b[36m(pid=None)\u001b[0m   warnings.warn(\n",
      "DtypeWarning: Columns (0,19,49,59,118,129,130,131,134,135,136,139,145,146,147) have mixed types.Specify dtype option on import or set low_memory=False.\n",
      "\u001b[2m\u001b[36m(pid=None)\u001b[0m C:\\Users\\RUNA\\anaconda3\\lib\\site-packages\\ray\\autoscaler\\_private\\cli_logger.py:57: FutureWarning: Not all Ray CLI dependencies were found. In Ray 1.4+, the Ray CLI, autoscaler, and dashboard will only be usable via `pip install 'ray[default]'`. Please update your install command.\n",
      "\u001b[2m\u001b[36m(pid=None)\u001b[0m   warnings.warn(\n"
     ]
    },
    {
     "name": "stdout",
     "output_type": "stream",
     "text": [
      "Time taken to read file using Pandas is 163.55413818359375\n"
     ]
    },
    {
     "name": "stderr",
     "output_type": "stream",
     "text": [
      "\u001b[2m\u001b[36m(pid=None)\u001b[0m C:\\Users\\RUNA\\anaconda3\\lib\\site-packages\\ray\\autoscaler\\_private\\cli_logger.py:57: FutureWarning: Not all Ray CLI dependencies were found. In Ray 1.4+, the Ray CLI, autoscaler, and dashboard will only be usable via `pip install 'ray[default]'`. Please update your install command.\n",
      "\u001b[2m\u001b[36m(pid=None)\u001b[0m   warnings.warn(\n",
      "\u001b[2m\u001b[36m(pid=None)\u001b[0m C:\\Users\\RUNA\\anaconda3\\lib\\site-packages\\ray\\autoscaler\\_private\\cli_logger.py:57: FutureWarning: Not all Ray CLI dependencies were found. In Ray 1.4+, the Ray CLI, autoscaler, and dashboard will only be usable via `pip install 'ray[default]'`. Please update your install command.\n",
      "\u001b[2m\u001b[36m(pid=None)\u001b[0m   warnings.warn(\n",
      "\u001b[2m\u001b[36m(pid=None)\u001b[0m C:\\Users\\RUNA\\anaconda3\\lib\\site-packages\\ray\\autoscaler\\_private\\cli_logger.py:57: FutureWarning: Not all Ray CLI dependencies were found. In Ray 1.4+, the Ray CLI, autoscaler, and dashboard will only be usable via `pip install 'ray[default]'`. Please update your install command.\n",
      "\u001b[2m\u001b[36m(pid=None)\u001b[0m   warnings.warn(\n",
      "\u001b[2m\u001b[36m(pid=None)\u001b[0m C:\\Users\\RUNA\\anaconda3\\lib\\site-packages\\ray\\autoscaler\\_private\\cli_logger.py:57: FutureWarning: Not all Ray CLI dependencies were found. In Ray 1.4+, the Ray CLI, autoscaler, and dashboard will only be usable via `pip install 'ray[default]'`. Please update your install command.\n",
      "\u001b[2m\u001b[36m(pid=None)\u001b[0m   warnings.warn(\n",
      "\u001b[2m\u001b[36m(pid=None)\u001b[0m C:\\Users\\RUNA\\anaconda3\\lib\\site-packages\\ray\\autoscaler\\_private\\cli_logger.py:57: FutureWarning: Not all Ray CLI dependencies were found. In Ray 1.4+, the Ray CLI, autoscaler, and dashboard will only be usable via `pip install 'ray[default]'`. Please update your install command.\n",
      "\u001b[2m\u001b[36m(pid=None)\u001b[0m   warnings.warn(\n",
      "\u001b[2m\u001b[36m(pid=None)\u001b[0m C:\\Users\\RUNA\\anaconda3\\lib\\site-packages\\ray\\autoscaler\\_private\\cli_logger.py:57: FutureWarning: Not all Ray CLI dependencies were found. In Ray 1.4+, the Ray CLI, autoscaler, and dashboard will only be usable via `pip install 'ray[default]'`. Please update your install command.\n",
      "\u001b[2m\u001b[36m(pid=None)\u001b[0m   warnings.warn(\n",
      "\u001b[2m\u001b[36m(pid=None)\u001b[0m C:\\Users\\RUNA\\anaconda3\\lib\\site-packages\\ray\\autoscaler\\_private\\cli_logger.py:57: FutureWarning: Not all Ray CLI dependencies were found. In Ray 1.4+, the Ray CLI, autoscaler, and dashboard will only be usable via `pip install 'ray[default]'`. Please update your install command.\n",
      "\u001b[2m\u001b[36m(pid=None)\u001b[0m   warnings.warn(\n",
      "\u001b[2m\u001b[36m(pid=None)\u001b[0m C:\\Users\\RUNA\\anaconda3\\lib\\site-packages\\ray\\autoscaler\\_private\\cli_logger.py:57: FutureWarning: Not all Ray CLI dependencies were found. In Ray 1.4+, the Ray CLI, autoscaler, and dashboard will only be usable via `pip install 'ray[default]'`. Please update your install command.\n",
      "\u001b[2m\u001b[36m(pid=None)\u001b[0m   warnings.warn(\n",
      "\u001b[2m\u001b[36m(pid=None)\u001b[0m C:\\Users\\RUNA\\anaconda3\\lib\\site-packages\\ray\\autoscaler\\_private\\cli_logger.py:57: FutureWarning: Not all Ray CLI dependencies were found. In Ray 1.4+, the Ray CLI, autoscaler, and dashboard will only be usable via `pip install 'ray[default]'`. Please update your install command.\n",
      "\u001b[2m\u001b[36m(pid=None)\u001b[0m   warnings.warn(\n",
      "\u001b[2m\u001b[36m(pid=None)\u001b[0m C:\\Users\\RUNA\\anaconda3\\lib\\site-packages\\ray\\autoscaler\\_private\\cli_logger.py:57: FutureWarning: Not all Ray CLI dependencies were found. In Ray 1.4+, the Ray CLI, autoscaler, and dashboard will only be usable via `pip install 'ray[default]'`. Please update your install command.\n",
      "\u001b[2m\u001b[36m(pid=None)\u001b[0m   warnings.warn(\n",
      "\u001b[2m\u001b[36m(pid=None)\u001b[0m C:\\Users\\RUNA\\anaconda3\\lib\\site-packages\\ray\\autoscaler\\_private\\cli_logger.py:57: FutureWarning: Not all Ray CLI dependencies were found. In Ray 1.4+, the Ray CLI, autoscaler, and dashboard will only be usable via `pip install 'ray[default]'`. Please update your install command.\n",
      "\u001b[2m\u001b[36m(pid=None)\u001b[0m   warnings.warn(\n",
      "\u001b[2m\u001b[36m(pid=None)\u001b[0m C:\\Users\\RUNA\\anaconda3\\lib\\site-packages\\ray\\autoscaler\\_private\\cli_logger.py:57: FutureWarning: Not all Ray CLI dependencies were found. In Ray 1.4+, the Ray CLI, autoscaler, and dashboard will only be usable via `pip install 'ray[default]'`. Please update your install command.\n",
      "\u001b[2m\u001b[36m(pid=None)\u001b[0m   warnings.warn(\n",
      "\u001b[2m\u001b[36m(pid=None)\u001b[0m C:\\Users\\RUNA\\anaconda3\\lib\\site-packages\\ray\\autoscaler\\_private\\cli_logger.py:57: FutureWarning: Not all Ray CLI dependencies were found. In Ray 1.4+, the Ray CLI, autoscaler, and dashboard will only be usable via `pip install 'ray[default]'`. Please update your install command.\n",
      "\u001b[2m\u001b[36m(pid=None)\u001b[0m   warnings.warn(\n",
      "\u001b[2m\u001b[36m(pid=None)\u001b[0m C:\\Users\\RUNA\\anaconda3\\lib\\site-packages\\ray\\autoscaler\\_private\\cli_logger.py:57: FutureWarning: Not all Ray CLI dependencies were found. In Ray 1.4+, the Ray CLI, autoscaler, and dashboard will only be usable via `pip install 'ray[default]'`. Please update your install command.\n",
      "\u001b[2m\u001b[36m(pid=None)\u001b[0m   warnings.warn(\n",
      "\u001b[2m\u001b[36m(pid=None)\u001b[0m C:\\Users\\RUNA\\anaconda3\\lib\\site-packages\\ray\\autoscaler\\_private\\cli_logger.py:57: FutureWarning: Not all Ray CLI dependencies were found. In Ray 1.4+, the Ray CLI, autoscaler, and dashboard will only be usable via `pip install 'ray[default]'`. Please update your install command.\n",
      "\u001b[2m\u001b[36m(pid=None)\u001b[0m   warnings.warn(\n",
      "\u001b[2m\u001b[36m(pid=None)\u001b[0m C:\\Users\\RUNA\\anaconda3\\lib\\site-packages\\ray\\autoscaler\\_private\\cli_logger.py:57: FutureWarning: Not all Ray CLI dependencies were found. In Ray 1.4+, the Ray CLI, autoscaler, and dashboard will only be usable via `pip install 'ray[default]'`. Please update your install command.\n",
      "\u001b[2m\u001b[36m(pid=None)\u001b[0m   warnings.warn(\n",
      "\u001b[2m\u001b[36m(pid=None)\u001b[0m C:\\Users\\RUNA\\anaconda3\\lib\\site-packages\\ray\\autoscaler\\_private\\cli_logger.py:57: FutureWarning: Not all Ray CLI dependencies were found. In Ray 1.4+, the Ray CLI, autoscaler, and dashboard will only be usable via `pip install 'ray[default]'`. Please update your install command.\n",
      "\u001b[2m\u001b[36m(pid=None)\u001b[0m   warnings.warn(\n",
      "\u001b[2m\u001b[36m(pid=None)\u001b[0m C:\\Users\\RUNA\\anaconda3\\lib\\site-packages\\ray\\autoscaler\\_private\\cli_logger.py:57: FutureWarning: Not all Ray CLI dependencies were found. In Ray 1.4+, the Ray CLI, autoscaler, and dashboard will only be usable via `pip install 'ray[default]'`. Please update your install command.\n",
      "\u001b[2m\u001b[36m(pid=None)\u001b[0m   warnings.warn(\n",
      "\u001b[2m\u001b[36m(pid=None)\u001b[0m C:\\Users\\RUNA\\anaconda3\\lib\\site-packages\\ray\\autoscaler\\_private\\cli_logger.py:57: FutureWarning: Not all Ray CLI dependencies were found. In Ray 1.4+, the Ray CLI, autoscaler, and dashboard will only be usable via `pip install 'ray[default]'`. Please update your install command.\n",
      "\u001b[2m\u001b[36m(pid=None)\u001b[0m   warnings.warn(\n",
      "\u001b[2m\u001b[36m(pid=None)\u001b[0m C:\\Users\\RUNA\\anaconda3\\lib\\site-packages\\ray\\autoscaler\\_private\\cli_logger.py:57: FutureWarning: Not all Ray CLI dependencies were found. In Ray 1.4+, the Ray CLI, autoscaler, and dashboard will only be usable via `pip install 'ray[default]'`. Please update your install command.\n",
      "\u001b[2m\u001b[36m(pid=None)\u001b[0m   warnings.warn(\n",
      "\u001b[2m\u001b[36m(pid=None)\u001b[0m C:\\Users\\RUNA\\anaconda3\\lib\\site-packages\\ray\\autoscaler\\_private\\cli_logger.py:57: FutureWarning: Not all Ray CLI dependencies were found. In Ray 1.4+, the Ray CLI, autoscaler, and dashboard will only be usable via `pip install 'ray[default]'`. Please update your install command.\n",
      "\u001b[2m\u001b[36m(pid=None)\u001b[0m   warnings.warn(\n",
      "\u001b[2m\u001b[36m(pid=None)\u001b[0m C:\\Users\\RUNA\\anaconda3\\lib\\site-packages\\ray\\autoscaler\\_private\\cli_logger.py:57: FutureWarning: Not all Ray CLI dependencies were found. In Ray 1.4+, the Ray CLI, autoscaler, and dashboard will only be usable via `pip install 'ray[default]'`. Please update your install command.\n",
      "\u001b[2m\u001b[36m(pid=None)\u001b[0m   warnings.warn(\n",
      "\u001b[2m\u001b[36m(pid=None)\u001b[0m C:\\Users\\RUNA\\anaconda3\\lib\\site-packages\\ray\\autoscaler\\_private\\cli_logger.py:57: FutureWarning: Not all Ray CLI dependencies were found. In Ray 1.4+, the Ray CLI, autoscaler, and dashboard will only be usable via `pip install 'ray[default]'`. Please update your install command.\n",
      "\u001b[2m\u001b[36m(pid=None)\u001b[0m   warnings.warn(\n",
      "\u001b[2m\u001b[36m(pid=None)\u001b[0m C:\\Users\\RUNA\\anaconda3\\lib\\site-packages\\ray\\autoscaler\\_private\\cli_logger.py:57: FutureWarning: Not all Ray CLI dependencies were found. In Ray 1.4+, the Ray CLI, autoscaler, and dashboard will only be usable via `pip install 'ray[default]'`. Please update your install command.\n",
      "\u001b[2m\u001b[36m(pid=None)\u001b[0m   warnings.warn(\n"
     ]
    },
    {
     "name": "stderr",
     "output_type": "stream",
     "text": [
      "\u001b[2m\u001b[36m(pid=None)\u001b[0m C:\\Users\\RUNA\\anaconda3\\lib\\site-packages\\ray\\autoscaler\\_private\\cli_logger.py:57: FutureWarning: Not all Ray CLI dependencies were found. In Ray 1.4+, the Ray CLI, autoscaler, and dashboard will only be usable via `pip install 'ray[default]'`. Please update your install command.\n",
      "\u001b[2m\u001b[36m(pid=None)\u001b[0m   warnings.warn(\n",
      "\u001b[2m\u001b[36m(pid=None)\u001b[0m C:\\Users\\RUNA\\anaconda3\\lib\\site-packages\\ray\\autoscaler\\_private\\cli_logger.py:57: FutureWarning: Not all Ray CLI dependencies were found. In Ray 1.4+, the Ray CLI, autoscaler, and dashboard will only be usable via `pip install 'ray[default]'`. Please update your install command.\n",
      "\u001b[2m\u001b[36m(pid=None)\u001b[0m   warnings.warn(\n",
      "\u001b[2m\u001b[36m(pid=None)\u001b[0m C:\\Users\\RUNA\\anaconda3\\lib\\site-packages\\ray\\autoscaler\\_private\\cli_logger.py:57: FutureWarning: Not all Ray CLI dependencies were found. In Ray 1.4+, the Ray CLI, autoscaler, and dashboard will only be usable via `pip install 'ray[default]'`. Please update your install command.\n",
      "\u001b[2m\u001b[36m(pid=None)\u001b[0m   warnings.warn(\n",
      "\u001b[2m\u001b[36m(pid=None)\u001b[0m C:\\Users\\RUNA\\anaconda3\\lib\\site-packages\\ray\\autoscaler\\_private\\cli_logger.py:57: FutureWarning: Not all Ray CLI dependencies were found. In Ray 1.4+, the Ray CLI, autoscaler, and dashboard will only be usable via `pip install 'ray[default]'`. Please update your install command.\n",
      "\u001b[2m\u001b[36m(pid=None)\u001b[0m   warnings.warn(\n",
      "\u001b[2m\u001b[36m(pid=None)\u001b[0m C:\\Users\\RUNA\\anaconda3\\lib\\site-packages\\ray\\autoscaler\\_private\\cli_logger.py:57: FutureWarning: Not all Ray CLI dependencies were found. In Ray 1.4+, the Ray CLI, autoscaler, and dashboard will only be usable via `pip install 'ray[default]'`. Please update your install command.\n",
      "\u001b[2m\u001b[36m(pid=None)\u001b[0m   warnings.warn(\n",
      "\u001b[2m\u001b[36m(pid=None)\u001b[0m C:\\Users\\RUNA\\anaconda3\\lib\\site-packages\\ray\\autoscaler\\_private\\cli_logger.py:57: FutureWarning: Not all Ray CLI dependencies were found. In Ray 1.4+, the Ray CLI, autoscaler, and dashboard will only be usable via `pip install 'ray[default]'`. Please update your install command.\n",
      "\u001b[2m\u001b[36m(pid=None)\u001b[0m   warnings.warn(\n",
      "\u001b[2m\u001b[36m(pid=None)\u001b[0m C:\\Users\\RUNA\\anaconda3\\lib\\site-packages\\ray\\autoscaler\\_private\\cli_logger.py:57: FutureWarning: Not all Ray CLI dependencies were found. In Ray 1.4+, the Ray CLI, autoscaler, and dashboard will only be usable via `pip install 'ray[default]'`. Please update your install command.\n",
      "\u001b[2m\u001b[36m(pid=None)\u001b[0m   warnings.warn(\n",
      "\u001b[2m\u001b[36m(pid=None)\u001b[0m C:\\Users\\RUNA\\anaconda3\\lib\\site-packages\\ray\\autoscaler\\_private\\cli_logger.py:57: FutureWarning: Not all Ray CLI dependencies were found. In Ray 1.4+, the Ray CLI, autoscaler, and dashboard will only be usable via `pip install 'ray[default]'`. Please update your install command.\n",
      "\u001b[2m\u001b[36m(pid=None)\u001b[0m   warnings.warn(\n",
      "\u001b[2m\u001b[36m(pid=None)\u001b[0m C:\\Users\\RUNA\\anaconda3\\lib\\site-packages\\ray\\autoscaler\\_private\\cli_logger.py:57: FutureWarning: Not all Ray CLI dependencies were found. In Ray 1.4+, the Ray CLI, autoscaler, and dashboard will only be usable via `pip install 'ray[default]'`. Please update your install command.\n",
      "\u001b[2m\u001b[36m(pid=None)\u001b[0m   warnings.warn(\n",
      "\u001b[2m\u001b[36m(pid=None)\u001b[0m C:\\Users\\RUNA\\anaconda3\\lib\\site-packages\\ray\\autoscaler\\_private\\cli_logger.py:57: FutureWarning: Not all Ray CLI dependencies were found. In Ray 1.4+, the Ray CLI, autoscaler, and dashboard will only be usable via `pip install 'ray[default]'`. Please update your install command.\n",
      "\u001b[2m\u001b[36m(pid=None)\u001b[0m   warnings.warn(\n",
      "\u001b[2m\u001b[36m(pid=None)\u001b[0m C:\\Users\\RUNA\\anaconda3\\lib\\site-packages\\ray\\autoscaler\\_private\\cli_logger.py:57: FutureWarning: Not all Ray CLI dependencies were found. In Ray 1.4+, the Ray CLI, autoscaler, and dashboard will only be usable via `pip install 'ray[default]'`. Please update your install command.\n",
      "\u001b[2m\u001b[36m(pid=None)\u001b[0m   warnings.warn(\n",
      "\u001b[2m\u001b[36m(pid=None)\u001b[0m C:\\Users\\RUNA\\anaconda3\\lib\\site-packages\\ray\\autoscaler\\_private\\cli_logger.py:57: FutureWarning: Not all Ray CLI dependencies were found. In Ray 1.4+, the Ray CLI, autoscaler, and dashboard will only be usable via `pip install 'ray[default]'`. Please update your install command.\n",
      "\u001b[2m\u001b[36m(pid=None)\u001b[0m   warnings.warn(\n"
     ]
    }
   ],
   "source": [
    "start = time.time()\n",
    "df = pd.read_csv('acceptedLoans.csv')\n",
    "end = time.time()\n",
    "print(\"Time taken to read file using Pandas is {}\".format(end - start))"
   ]
  },
  {
   "cell_type": "code",
   "execution_count": 7,
   "metadata": {},
   "outputs": [
    {
     "data": {
      "text/plain": [
       "(2260701, 151)"
      ]
     },
     "execution_count": 7,
     "metadata": {},
     "output_type": "execute_result"
    },
    {
     "name": "stderr",
     "output_type": "stream",
     "text": [
      "\u001b[2m\u001b[36m(pid=None)\u001b[0m C:\\Users\\RUNA\\anaconda3\\lib\\site-packages\\ray\\autoscaler\\_private\\cli_logger.py:57: FutureWarning: Not all Ray CLI dependencies were found. In Ray 1.4+, the Ray CLI, autoscaler, and dashboard will only be usable via `pip install 'ray[default]'`. Please update your install command.\n",
      "\u001b[2m\u001b[36m(pid=None)\u001b[0m   warnings.warn(\n",
      "\u001b[2m\u001b[36m(pid=None)\u001b[0m C:\\Users\\RUNA\\anaconda3\\lib\\site-packages\\ray\\autoscaler\\_private\\cli_logger.py:57: FutureWarning: Not all Ray CLI dependencies were found. In Ray 1.4+, the Ray CLI, autoscaler, and dashboard will only be usable via `pip install 'ray[default]'`. Please update your install command.\n",
      "\u001b[2m\u001b[36m(pid=None)\u001b[0m   warnings.warn(\n",
      "\u001b[2m\u001b[36m(pid=None)\u001b[0m C:\\Users\\RUNA\\anaconda3\\lib\\site-packages\\ray\\autoscaler\\_private\\cli_logger.py:57: FutureWarning: Not all Ray CLI dependencies were found. In Ray 1.4+, the Ray CLI, autoscaler, and dashboard will only be usable via `pip install 'ray[default]'`. Please update your install command.\n",
      "\u001b[2m\u001b[36m(pid=None)\u001b[0m   warnings.warn(\n",
      "\u001b[2m\u001b[36m(pid=None)\u001b[0m C:\\Users\\RUNA\\anaconda3\\lib\\site-packages\\ray\\autoscaler\\_private\\cli_logger.py:57: FutureWarning: Not all Ray CLI dependencies were found. In Ray 1.4+, the Ray CLI, autoscaler, and dashboard will only be usable via `pip install 'ray[default]'`. Please update your install command.\n",
      "\u001b[2m\u001b[36m(pid=None)\u001b[0m   warnings.warn(\n",
      "\u001b[2m\u001b[36m(pid=None)\u001b[0m C:\\Users\\RUNA\\anaconda3\\lib\\site-packages\\ray\\autoscaler\\_private\\cli_logger.py:57: FutureWarning: Not all Ray CLI dependencies were found. In Ray 1.4+, the Ray CLI, autoscaler, and dashboard will only be usable via `pip install 'ray[default]'`. Please update your install command.\n",
      "\u001b[2m\u001b[36m(pid=None)\u001b[0m   warnings.warn(\n",
      "\u001b[2m\u001b[36m(pid=None)\u001b[0m C:\\Users\\RUNA\\anaconda3\\lib\\site-packages\\ray\\autoscaler\\_private\\cli_logger.py:57: FutureWarning: Not all Ray CLI dependencies were found. In Ray 1.4+, the Ray CLI, autoscaler, and dashboard will only be usable via `pip install 'ray[default]'`. Please update your install command.\n",
      "\u001b[2m\u001b[36m(pid=None)\u001b[0m   warnings.warn(\n",
      "\u001b[2m\u001b[36m(pid=None)\u001b[0m C:\\Users\\RUNA\\anaconda3\\lib\\site-packages\\ray\\autoscaler\\_private\\cli_logger.py:57: FutureWarning: Not all Ray CLI dependencies were found. In Ray 1.4+, the Ray CLI, autoscaler, and dashboard will only be usable via `pip install 'ray[default]'`. Please update your install command.\n",
      "\u001b[2m\u001b[36m(pid=None)\u001b[0m   warnings.warn(\n"
     ]
    }
   ],
   "source": [
    "mray_df.shape"
   ]
  },
  {
   "cell_type": "code",
   "execution_count": 13,
   "metadata": {},
   "outputs": [
    {
     "name": "stdout",
     "output_type": "stream",
     "text": [
      "Size of the file is 2 GB\n"
     ]
    },
    {
     "name": "stderr",
     "output_type": "stream",
     "text": [
      "\u001b[2m\u001b[36m(pid=None)\u001b[0m C:\\Users\\RUNA\\anaconda3\\lib\\site-packages\\ray\\autoscaler\\_private\\cli_logger.py:57: FutureWarning: Not all Ray CLI dependencies were found. In Ray 1.4+, the Ray CLI, autoscaler, and dashboard will only be usable via `pip install 'ray[default]'`. Please update your install command.\n",
      "\u001b[2m\u001b[36m(pid=None)\u001b[0m   warnings.warn(\n",
      "\u001b[2m\u001b[36m(pid=None)\u001b[0m C:\\Users\\RUNA\\anaconda3\\lib\\site-packages\\ray\\autoscaler\\_private\\cli_logger.py:57: FutureWarning: Not all Ray CLI dependencies were found. In Ray 1.4+, the Ray CLI, autoscaler, and dashboard will only be usable via `pip install 'ray[default]'`. Please update your install command.\n",
      "\u001b[2m\u001b[36m(pid=None)\u001b[0m   warnings.warn(\n",
      "\u001b[2m\u001b[36m(pid=None)\u001b[0m C:\\Users\\RUNA\\anaconda3\\lib\\site-packages\\ray\\autoscaler\\_private\\cli_logger.py:57: FutureWarning: Not all Ray CLI dependencies were found. In Ray 1.4+, the Ray CLI, autoscaler, and dashboard will only be usable via `pip install 'ray[default]'`. Please update your install command.\n",
      "\u001b[2m\u001b[36m(pid=None)\u001b[0m   warnings.warn(\n",
      "\u001b[2m\u001b[36m(pid=None)\u001b[0m C:\\Users\\RUNA\\anaconda3\\lib\\site-packages\\ray\\autoscaler\\_private\\cli_logger.py:57: FutureWarning: Not all Ray CLI dependencies were found. In Ray 1.4+, the Ray CLI, autoscaler, and dashboard will only be usable via `pip install 'ray[default]'`. Please update your install command.\n",
      "\u001b[2m\u001b[36m(pid=None)\u001b[0m   warnings.warn(\n",
      "\u001b[2m\u001b[36m(pid=None)\u001b[0m C:\\Users\\RUNA\\anaconda3\\lib\\site-packages\\ray\\autoscaler\\_private\\cli_logger.py:57: FutureWarning: Not all Ray CLI dependencies were found. In Ray 1.4+, the Ray CLI, autoscaler, and dashboard will only be usable via `pip install 'ray[default]'`. Please update your install command.\n",
      "\u001b[2m\u001b[36m(pid=None)\u001b[0m   warnings.warn(\n"
     ]
    }
   ],
   "source": [
    "file_size = os.stat('acceptedLoans.csv')\n",
    "print(\"Size of the file is {} GB\".format(round(file_size.st_size / 2**30),2))"
   ]
  },
  {
   "cell_type": "code",
   "execution_count": 35,
   "metadata": {},
   "outputs": [],
   "source": [
    "numMissing = df.isnull().sum()\n",
    "percentMissing = (100 * numMissing)/len(df)\n",
    "\n",
    "temp = [i for i in percentMissing > 50]\n",
    "df.drop(df.columns[temp],axis = 1,inplace = True)"
   ]
  },
  {
   "cell_type": "code",
   "execution_count": 36,
   "metadata": {},
   "outputs": [
    {
     "data": {
      "text/plain": [
       "id                            0.000000\n",
       "loan_amnt                     0.001460\n",
       "funded_amnt                   0.001460\n",
       "funded_amnt_inv               0.001460\n",
       "term                          0.001460\n",
       "                                ...   \n",
       "total_bc_limit                2.214490\n",
       "total_il_high_credit_limit    3.110053\n",
       "hardship_flag                 0.001460\n",
       "disbursement_method           0.001460\n",
       "debt_settlement_flag          0.001460\n",
       "Length: 107, dtype: float64"
      ]
     },
     "execution_count": 36,
     "metadata": {},
     "output_type": "execute_result"
    }
   ],
   "source": [
    "numMissing = a.isnull().sum()\n",
    "percentMissing = (100 * numMissing)/len(a)\n",
    "percentMissing"
   ]
  }
 ],
 "metadata": {
  "kernelspec": {
   "display_name": "Python 3",
   "language": "python",
   "name": "python3"
  },
  "language_info": {
   "codemirror_mode": {
    "name": "ipython",
    "version": 3
   },
   "file_extension": ".py",
   "mimetype": "text/x-python",
   "name": "python",
   "nbconvert_exporter": "python",
   "pygments_lexer": "ipython3",
   "version": "3.8.5"
  }
 },
 "nbformat": 4,
 "nbformat_minor": 4
}
